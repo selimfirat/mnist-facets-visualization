{
 "cells": [
  {
   "cell_type": "code",
   "execution_count": 22,
   "metadata": {},
   "outputs": [
    {
     "name": "stdout",
     "output_type": "stream",
     "text": [
      "Extracting /tmp/data/train-images-idx3-ubyte.gz\n",
      "Extracting /tmp/data/train-labels-idx1-ubyte.gz\n",
      "Extracting /tmp/data/t10k-images-idx3-ubyte.gz\n",
      "Extracting /tmp/data/t10k-labels-idx1-ubyte.gz\n"
     ]
    }
   ],
   "source": [
    "import tensorflow as tf\n",
    "from tensorflow.examples.tutorials.mnist import input_data\n",
    "data = input_data.read_data_sets(\"/tmp/data/\", one_hot=True)"
   ]
  },
  {
   "cell_type": "code",
   "execution_count": 29,
   "metadata": {},
   "outputs": [],
   "source": [
    "lr = 0.00001\n",
    "batch_size = 64\n",
    "display_epochs = 1\n",
    "logs_path = '/tmp/tensorflow_logs/mnist_fully_connected'\n",
    "num_steps = int(data.train.num_examples / batch_size)\n",
    "num_epochs = 5\n",
    "wh = 28\n",
    "config = tf.ConfigProto(device_count = {'GPU': 1})\n",
    "\n",
    "h1 = 512\n",
    "h2 = 512\n",
    "h3 = 512\n",
    "inp = wh*wh\n",
    "out = num_class = 10\n",
    "\n",
    "X = tf.placeholder(tf.float32, shape=[None, inp], name=\"InputData\")\n",
    "Y = tf.placeholder(tf.float32, shape=[None, out], name=\"LabelsData\")"
   ]
  },
  {
   "cell_type": "code",
   "execution_count": 30,
   "metadata": {},
   "outputs": [],
   "source": [
    "W = {\n",
    "    \"h1\": tf.Variable(tf.random_normal([inp, h1]), name=\"Weights_Input_to_H1\"),\n",
    "    \"h2\": tf.Variable(tf.random_normal([h1, h2]), name=\"Weights_H1_to_H2\"),\n",
    "    \"h3\": tf.Variable(tf.random_normal([h2, h3]), name=\"Weights_H2_to_H3\"),\n",
    "    \"out\": tf.Variable(tf.random_normal([h3, out]), name=\"Weights_H3_to_Output\"),\n",
    "}\n",
    "\n",
    "b = {\n",
    "    \"h1\": tf.Variable(tf.random_normal([h1]), name=\"Bias_Input_to_H1\"),\n",
    "    \"h2\": tf.Variable(tf.random_normal([h2]), name=\"Bias_H1_to_H2\"),\n",
    "    \"h3\": tf.Variable(tf.random_normal([h3]), name=\"Bias_H2_to_H3\"),\n",
    "    \"out\": tf.Variable(tf.random_normal([out]), name=\"Bias_H3_to_Output\"),\n",
    "}"
   ]
  },
  {
   "cell_type": "code",
   "execution_count": 31,
   "metadata": {},
   "outputs": [],
   "source": [
    "layer1 = tf.add(tf.matmul(X, W[\"h1\"]), b[\"h1\"])\n",
    "layer2 = tf.add(tf.matmul(layer1, W[\"h2\"]), b[\"h2\"])\n",
    "layer3 = tf.add(tf.matmul(layer2, W[\"h3\"]), b[\"h3\"])\n",
    "nn = out_layer = tf.add(tf.matmul(layer3, W[\"out\"]), b[\"out\"])"
   ]
  },
  {
   "cell_type": "code",
   "execution_count": 32,
   "metadata": {},
   "outputs": [],
   "source": [
    "with tf.name_scope('Loss'):\n",
    "    loss_op = tf.reduce_mean(tf.nn.softmax_cross_entropy_with_logits(\n",
    "        logits=nn, labels=Y\n",
    "    ))\n",
    "\n",
    "with tf.name_scope('SGD'):\n",
    "    train_op = tf.train.GradientDescentOptimizer(lr).minimize(loss_op)\n",
    "\n",
    "with tf.name_scope('Accuracy'):\n",
    "    accuracy = tf.reduce_mean(tf.cast(tf.equal(tf.argmax(nn, 1), tf.argmax(Y, 1)), tf.float32))\n",
    "\n",
    "predictions = tf.argmax(nn, 1)\n",
    "\n",
    "init = tf.global_variables_initializer()\n",
    "\n",
    "\n",
    "training_loss = tf.summary.scalar(\"Training_Loss\", loss_op)\n",
    "\n",
    "validation_accuracy = tf.summary.scalar(\"Validation_Accuracy\", accuracy)\n",
    "validation_loss = tf.summary.scalar(\"Validation_Loss\", loss_op)\n",
    "\n",
    "test_accuracy = tf.summary.scalar(\"Test_Accuracy\", accuracy)\n",
    "\n",
    "training_summary_op = tf.summary.merge([training_loss])\n",
    "test_summary_op = tf.summary.merge([test_accuracy])\n",
    "validation_summary_op = tf.summary.merge([validation_loss, validation_accuracy])\n",
    "preds = []"
   ]
  },
  {
   "cell_type": "code",
   "execution_count": 33,
   "metadata": {},
   "outputs": [
    {
     "name": "stdout",
     "output_type": "stream",
     "text": [
      "Epoch:  0001 Cost:  11678.90396 Validation Accuracy:  0.8584\n",
      "Epoch:  0002 Cost:  5017.68791 Validation Accuracy:  0.8772\n",
      "Epoch:  0003 Cost:  3874.01328 Validation Accuracy:  0.8788\n",
      "Epoch:  0004 Cost:  3268.70871 Validation Accuracy:  0.8892\n",
      "Epoch:  0005 Cost:  2820.18248 Validation Accuracy:  0.8834\n",
      "Optimization Finished!\n",
      "Test Accuracy: 0.881\n"
     ]
    }
   ],
   "source": [
    "with tf.Session(config=config) as S:\n",
    "    train_writer = tf.summary.FileWriter(logs_path + '/train', S.graph)\n",
    "    validation_writer = tf.summary.FileWriter(logs_path + '/validation')\n",
    "    test_writer = tf.summary.FileWriter(logs_path + '/test')\n",
    "\n",
    "    S.run(init)\n",
    "    \n",
    "    for epoch in range(1, num_epochs + 1):\n",
    "        avg_cost = 0.\n",
    "        for step in range(1, num_steps + 1):\n",
    "            batchX, batchY = data.train.next_batch(batch_size)\n",
    "\n",
    "            _, c, summary =  S.run([train_op, loss_op, training_summary_op], feed_dict= { X: batchX, Y: batchY })\n",
    "            avg_cost += c / num_steps\n",
    "            train_writer.add_summary(summary, epoch * num_steps + step)\n",
    "\n",
    "        vall_acc, val_loss, summary = S.run([accuracy, loss_op, validation_summary_op], feed_dict= { X: data.validation.images, Y: data.validation.labels })\n",
    "        validation_writer.add_summary(summary, epoch)\n",
    "\n",
    "        if epoch % display_epochs == 0 or epoch == 1:\n",
    "            print(\"Epoch: \", '%04d' % epoch, \"Cost: \", \"{:.5f}\".format(avg_cost), \"Validation Accuracy: \", vall_acc)\n",
    "\n",
    "    print(\"Optimization Finished!\")\n",
    "\n",
    "    test_acc, preds, summary = S.run([accuracy, predictions, test_summary_op], feed_dict= { X: data.test.images, Y: data.test.labels })\n",
    "    test_writer.add_summary(summary, 1)\n",
    "    print(\"Test Accuracy:\", test_acc)\n"
   ]
  },
  {
   "cell_type": "code",
   "execution_count": 1,
   "metadata": {
    "scrolled": true
   },
   "outputs": [
    {
     "ename": "NameError",
     "evalue": "name 'tf' is not defined",
     "traceback": [
      "\u001b[0;31m---------------------------------------------------------------------------\u001b[0m",
      "\u001b[0;31mNameError\u001b[0m                                 Traceback (most recent call last)",
      "\u001b[0;32m<ipython-input-1-1242de20cc89>\u001b[0m in \u001b[0;36m<module>\u001b[0;34m()\u001b[0m\n\u001b[1;32m      4\u001b[0m \u001b[0;32mfrom\u001b[0m \u001b[0mIPython\u001b[0m\u001b[0;34m.\u001b[0m\u001b[0mcore\u001b[0m\u001b[0;34m.\u001b[0m\u001b[0mdisplay\u001b[0m \u001b[0;32mimport\u001b[0m \u001b[0mdisplay\u001b[0m\u001b[0;34m,\u001b[0m \u001b[0mHTML\u001b[0m\u001b[0;34m\u001b[0m\u001b[0m\n\u001b[1;32m      5\u001b[0m \u001b[0;34m\u001b[0m\u001b[0m\n\u001b[0;32m----> 6\u001b[0;31m \u001b[0;32mwith\u001b[0m \u001b[0mtf\u001b[0m\u001b[0;34m.\u001b[0m\u001b[0mSession\u001b[0m\u001b[0;34m(\u001b[0m\u001b[0;34m)\u001b[0m \u001b[0;32mas\u001b[0m \u001b[0mS\u001b[0m\u001b[0;34m:\u001b[0m\u001b[0;34m\u001b[0m\u001b[0m\n\u001b[0m\u001b[1;32m      7\u001b[0m     \u001b[0mactual\u001b[0m \u001b[0;34m=\u001b[0m \u001b[0mnp\u001b[0m\u001b[0;34m.\u001b[0m\u001b[0marray\u001b[0m\u001b[0;34m(\u001b[0m\u001b[0mtf\u001b[0m\u001b[0;34m.\u001b[0m\u001b[0margmax\u001b[0m\u001b[0;34m(\u001b[0m\u001b[0mdata\u001b[0m\u001b[0;34m.\u001b[0m\u001b[0mtest\u001b[0m\u001b[0;34m.\u001b[0m\u001b[0mlabels\u001b[0m\u001b[0;34m,\u001b[0m \u001b[0;36m1\u001b[0m\u001b[0;34m)\u001b[0m\u001b[0;34m.\u001b[0m\u001b[0meval\u001b[0m\u001b[0;34m(\u001b[0m\u001b[0;34m)\u001b[0m\u001b[0;34m)\u001b[0m\u001b[0;34m\u001b[0m\u001b[0m\n\u001b[1;32m      8\u001b[0m \u001b[0;34m\u001b[0m\u001b[0m\n",
      "\u001b[0;31mNameError\u001b[0m: name 'tf' is not defined"
     ],
     "output_type": "error"
    }
   ],
   "source": [
    "# Run tensorboard --logdir=/tmp/tensorflow_logs\n",
    "from visualization import create_atlas, create_facets\n",
    "import numpy as np\n",
    "from IPython.core.display import display, HTML\n",
    "\n",
    "with tf.Session() as S:\n",
    "    actual = np.array(tf.argmax(data.test.labels, 1).eval())\n",
    "\n",
    "facets = create_facets(data.test.images, preds, actual, \"mnist\", \"fully_connected\")\n",
    "\n",
    "display(HTML(facets))"
   ]
  },
  {
   "cell_type": "code",
   "execution_count": null,
   "metadata": {},
   "outputs": [],
   "source": [
    "# References\n",
    "# https://github.com/aymericdamien/TensorFlow-Examples/blob/master/notebooks/3_NeuralNetworks/neural_network_raw.ipynb"
   ]
  }
 ],
 "metadata": {
  "kernelspec": {
   "display_name": "Python 3",
   "language": "python",
   "name": "python3"
  },
  "language_info": {
   "codemirror_mode": {
    "name": "ipython",
    "version": 3
   },
   "file_extension": ".py",
   "mimetype": "text/x-python",
   "name": "python",
   "nbconvert_exporter": "python",
   "pygments_lexer": "ipython3",
   "version": "3.5.4"
  }
 },
 "nbformat": 4,
 "nbformat_minor": 2
}
